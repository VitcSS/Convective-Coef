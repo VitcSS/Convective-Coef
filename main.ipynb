{
 "cells": [
  {
   "cell_type": "code",
   "execution_count": 2,
   "metadata": {},
   "outputs": [],
   "source": [
    "import numpy as np\n",
    "import os\n",
    "import pandas as pd\n",
    "from typing import Dict"
   ]
  },
  {
   "attachments": {},
   "cell_type": "markdown",
   "metadata": {},
   "source": [
    "## Descrição do problema\n",
    "\n",
    "Determine a temperatura uniforme de equilíbrio $T_{placa}$ de uma placa vertical (altura $3.0m$; comprimento $6.0m$). Uma de suas faces (e) é exposta ao ar ambiente $T_{\\infty}=310K$ e recebe um fluxo prescrito $q_e”=800\\frac{W}{m^2}$, enquanto a outra face (d) recebe um fluxo prescrito $q_d”=140\\frac{W}{m^2}$."
   ]
  },
  {
   "cell_type": "code",
   "execution_count": null,
   "metadata": {},
   "outputs": [],
   "source": [
    "plate_dimensions : Dict = {'height' : 3.0, 'lenght' : 6.0}\n",
    "prescribed_heat : Dict = {'side_e' : 800, 'side_d' : 140}\n",
    "enviroment_temperature : np.float128 = 310.0"
   ]
  },
  {
   "attachments": {},
   "cell_type": "markdown",
   "metadata": {},
   "source": [
    "## Propriedades do Ar \n",
    "Para alimentar o código iterativo que irá calcular o coeficiente convectivo do problema foram extraídos os valores do livro para as propriedades termofisicas e utilizando esses valores foram construídos interpoladores que tem como varíavel de controle o valor da temperatura de filme $T_F$"
   ]
  },
  {
   "cell_type": "code",
   "execution_count": 27,
   "metadata": {},
   "outputs": [
    {
     "name": "stdout",
     "output_type": "stream",
     "text": [
      "{'Ro': 1.1614, 'Cp': 1.007, 'mu': 1.846e-05, 'v': 1.589e-05, 'k': 0.0263, 'alpha': 2.2499999999999998e-05, 'Pr': 0.707, 'Tf': 300}\n"
     ]
    }
   ],
   "source": [
    "class air:\n",
    "    def __init__(self, air_conf : str = os.path.join(os.getcwd(),'air_params_treated.parquet')) -> None:\n",
    "        self.data = pd.read_parquet(air_conf)\n",
    "        (self.data)\n",
    "    def air_parameters(self, T_f : np.float128 ) -> Dict:\n",
    "        out =  { key : np.interp( x = T_f, xp = self.data['T'].to_list(), fp = self.data[key].to_list()) for key in self.data.loc[:, self.data.columns != 'T'].columns}\n",
    "        out['Tf'] = T_f\n",
    "        return out\n",
    "print(air().air_parameters(300))"
   ]
  },
  {
   "cell_type": "code",
   "execution_count": 29,
   "metadata": {},
   "outputs": [
    {
     "name": "stdout",
     "output_type": "stream",
     "text": [
      "True\n"
     ]
    }
   ],
   "source": [
    "class Hc():\n",
    "    def __init__(self) -> None:\n",
    "        self.air_config : air = air()\n",
    "        self.g : np.float128 = 9.8\n",
    "    def __Beta__(self, air_params : Dict)->np.float128:\n",
    "        return 1/air_params['Tf']\n",
    "    def __Grashof__(self,air_params : np.float128, L: np.float128, T_s = 410, T_inf = 310)-> np.float128:\n",
    "        return (self.g*self.__Beta__(air_params)*(T_s - T_inf)*np.float_power(L,3))/np.float_power(air_params['v'],2)\n",
    "    def __Rayleigh__(self,air_params : np.float128, L: np.float128, T_s = 410, T_inf = 310):\n",
    "        return self.__Grashof__(air_params, L, T_s, T_inf)*air_params['Pr']"
   ]
  },
  {
   "attachments": {},
   "cell_type": "markdown",
   "metadata": {},
   "source": [
    "## Modelagem do Problema\n",
    "### Balanço de Energia\n",
    "Como descrito no problema, a temperatura de equílibrio uniforme foi solicitada, isso significa que a energia armazenada no sistema deve ser igual a zero. Somando isso ao fato que não foi explicitado no problema que a placa gera algum tipo de calor temos que o balanço de enrgia pode ser descrito da seguinte forma:\n",
    "$$ E_{entra} - E_{sai} = 0$$\n",
    "Sendo que:\n",
    "$$ E_{entra} = q_{e}\"\\cdot A + q_{d}\"\\cdot A = \\left(q_{e}\" + q_{d}\"\\right)\\cdot A $$\n",
    "$$ E_{sai} = h_{c}\\cdot A\\left(T_{placa} - T_{\\infty}\\right) $$\n",
    "Logo temos  que :\n",
    "$$ \\left(q_{e}\" + q_{d}\"\\right)\\cdot A - h_{c}\\cdot A\\left(T_{placa} - T_{\\infty}\\right) = 0 $$\n",
    "Como o valor solicitado é a a temperatura da placa tem-se que :\n",
    "$$ T_{placa} = \\frac{q_{e}\" + q_{d}\"}{h_{c}} + T_{\\infty} $$\n",
    "Fazendo a substituição dos valores conhecidos temos que :\n",
    "$$ T_{placa} = \\frac{800 + 140}{h_{c}} + 310 $$\n",
    "Temos então que o resultado pode ser descrito como sendo :\n",
    "$$ T_{placa} = \\frac{940}{h_{c}} + 310 $$\n",
    "### Condição de Parada\n",
    "A partir do que foi descrito acima podemos afirmar que o código deve parar quando a seguinte equação for satisfeita:\n",
    "$$\\left(q_{e}\" + q_{d}\"\\right)\\cdot A - h_{c}\\cdot A\\left(T_{placa} - T_{\\infty}\\right) = 0 $$\n",
    "$$\\left(q_{e}\" + q_{d}\"\\right) - h_{c}\\left(T_{placa} - T_{\\infty}\\right) = 0 $$\n",
    "### Espaço de Busca\n",
    "Para ser possível definir os valores aceitáveis de $T_{placa}$ é necessário avaliar a equação. Tendo em mente que $h_c$ sempre será um número positivo entre 0 e 1 e que todos os valores conhecidos são números reais e positivos já é possível afirmar algumas condições:\n",
    "1. $T_{placa}$  deve ser maior que zero.\n",
    "2. $T_{placa}$ deve ser maior de $T_{\\infty}$.\n",
    "3. $\\left(q_{e}\" + q_{d}\"\\right)$ e $h_{c}\\left(T_{placa} - T_{\\infty}\\right)$ devem ser iguais\n",
    "4. O resultado do modelo independe da área $A$ da placa, porém depende da altura da placa.\n",
    "\n",
    "Isso quer dizer que o problema possui soluções para o intervalo: \n",
    "$$ T_{\\infty} < T_{placa} < \\infty $$"
   ]
  },
  {
   "cell_type": "code",
   "execution_count": null,
   "metadata": {},
   "outputs": [],
   "source": [
    "class Plate:\n",
    "    def __init__(self,height : np.float128, lenght : np.float128) -> None:\n",
    "        self.__dimensions__ = {'height':height, 'lenght':lenght}\n",
    "    \n",
    "    @property\n",
    "    def area(self) -> np.float128:\n",
    "        return self.__dimensions__['height']*self.__dimensions__['lenght']\n",
    "    \n",
    "    @property\n",
    "    def height(self) -> np.float128:\n",
    "        return self.__dimensions__['height']\n",
    "    \n",
    "    @property\n",
    "    def lenght(self) -> np.float128:\n",
    "        return self.__dimensions__['lenght']\n"
   ]
  },
  {
   "attachments": {},
   "cell_type": "markdown",
   "metadata": {},
   "source": [
    "## Modelo do Problema\n",
    "Com o contexto definido do problema é possível escrever o problema da seguinte forma :\n",
    "$$ \\min f(T_{Placa}) = \\left(q_{e}\" + q_{d}\"\\right) - h_{c}\\left(T_{placa} - T_{\\infty}\\right) $$\n",
    "Para :\n",
    "$$ T_{Placa} > T_{\\infty} $$\n",
    "$$ T_{Placa} \\neq T_{\\infty} $$"
   ]
  },
  {
   "cell_type": "code",
   "execution_count": null,
   "metadata": {},
   "outputs": [],
   "source": [
    "def f_objective(Qe : np.float128, Qd : np.float128, Hc: np.float128, T_inf : str, T_placa):\n",
    "    return (Qe+Qd)-(Hc*(T_placa - T_inf))\n"
   ]
  }
 ],
 "metadata": {
  "kernelspec": {
   "display_name": "Python 3",
   "language": "python",
   "name": "python3"
  },
  "language_info": {
   "codemirror_mode": {
    "name": "ipython",
    "version": 3
   },
   "file_extension": ".py",
   "mimetype": "text/x-python",
   "name": "python",
   "nbconvert_exporter": "python",
   "pygments_lexer": "ipython3",
   "version": "3.10.6"
  },
  "orig_nbformat": 4
 },
 "nbformat": 4,
 "nbformat_minor": 2
}
