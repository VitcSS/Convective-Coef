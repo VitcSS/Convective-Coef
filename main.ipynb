{
 "cells": [
  {
   "cell_type": "code",
   "execution_count": 1,
   "metadata": {},
   "outputs": [],
   "source": [
    "import numpy as np\n",
    "import os\n",
    "import pandas\n",
    "from typing import Dict"
   ]
  },
  {
   "attachments": {},
   "cell_type": "markdown",
   "metadata": {},
   "source": [
    "## Descrição do problema\n",
    "\n",
    "Determine a temperatura uniforme de equilíbrio $T_{placa}$ de uma placa vertical (altura $3.0m$; comprimento $6.0m$). Uma de suas faces (e) é exposta ao ar ambiente $T_{\\infty}=310K$ e recebe um fluxo prescrito $q_e”=800\\frac{W}{m^2}$, enquanto a outra face (d) recebe um fluxo prescrito $q_d”=140\\frac{W}{m^2}$."
   ]
  },
  {
   "cell_type": "code",
   "execution_count": null,
   "metadata": {},
   "outputs": [],
   "source": [
    "plate_dimensions : Dict = {'height' : 3.0, 'lenght' : 6.0}\n",
    "prescribed_heat : Dict = {'side_e' : 800, 'side_d' : 140}\n",
    "enviroment_temperature : np.float128 = 310.0"
   ]
  },
  {
   "attachments": {},
   "cell_type": "markdown",
   "metadata": {},
   "source": [
    "## Modelagem do Problema\n",
    "### Balanço de Energia\n",
    "Como descrito no problema, a temperatura de equílibrio uniforme foi solicitada, isso significa que a energia armazenada no sistema deve ser igual a zero. Somando isso ao fato que não foi explicitado no problema que a placa gera algum tipo de calor temos que o balanço de enrgia pode ser descrito da seguinte forma:\n",
    "$$ E_{entra} - E_{sai} = 0$$\n",
    "Sendo que:\n",
    "$$ E_{entra} = q_{e}\"\\cdot A + q_{d}\"\\cdot A = \\left(q_{e}\" + q_{d}\"\\right)\\cdot A $$\n",
    "$$ E_{sai} = h_{c}\\cdot A\\left(T_{placa} - T_{\\infty}\\right) $$\n",
    "Logo temos  que :\n",
    "$$ \\left(q_{e}\" + q_{d}\"\\right)\\cdot A - h_{c}\\cdot A\\left(T_{placa} - T_{\\infty}\\right) = 0 $$\n",
    "Como o valor solicitado é a a temperatura da placa tem-se que :\n",
    "$$ T_{placa} = \\frac{q_{e}\" + q_{d}\"}{h_{c}} + T_{\\infty} $$\n",
    "Fazendo a substituição dos valores conhecidos temos que :\n",
    "$$ T_{placa} = \\frac{800 + 140}{h_{c}} + 310 $$\n",
    "Temos então que o resultado pode ser descrito como sendo :\n",
    "$$ T_{placa} = \\frac{940}{h_{c}} + 310 $$\n"
   ]
  },
  {
   "cell_type": "code",
   "execution_count": null,
   "metadata": {},
   "outputs": [],
   "source": [
    "class Plate:\n",
    "    def __init__(self,height : np.float128, lenght : np.float128) -> None:\n",
    "        self.__dimensions__ = {'height':height, 'lenght':lenght}\n",
    "    \n",
    "    @property\n",
    "    def area(self) -> np.float128:\n",
    "        return self.__dimensions__['height']*self.__dimensions__['lenght']\n",
    "    \n",
    "    @property\n",
    "    def height(self) -> np.float128:\n",
    "        return self.__dimensions__['height']\n",
    "    \n",
    "    @property\n",
    "    def lenght(self) -> np.float128:\n",
    "        return self.__dimensions__['lenght']\n"
   ]
  }
 ],
 "metadata": {
  "kernelspec": {
   "display_name": "Python 3",
   "language": "python",
   "name": "python3"
  },
  "language_info": {
   "codemirror_mode": {
    "name": "ipython",
    "version": 3
   },
   "file_extension": ".py",
   "mimetype": "text/x-python",
   "name": "python",
   "nbconvert_exporter": "python",
   "pygments_lexer": "ipython3",
   "version": "3.10.6"
  },
  "orig_nbformat": 4
 },
 "nbformat": 4,
 "nbformat_minor": 2
}
